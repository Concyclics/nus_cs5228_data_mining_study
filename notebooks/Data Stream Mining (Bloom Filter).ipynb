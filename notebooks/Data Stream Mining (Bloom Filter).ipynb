{
 "cells": [
  {
   "cell_type": "markdown",
   "metadata": {},
   "source": [
    "<img src=\"data/images/lecture-notebook-header.png\" />"
   ]
  },
  {
   "cell_type": "markdown",
   "metadata": {},
   "source": [
    "# Data Stream Mining: Bloom Filter\n",
    "\n",
    "In data mining, Bloom filters are probabilistic data structures used for efficient membership testing. They are designed to quickly determine whether an element is a member of a set or not, with a minimal amount of memory.\n",
    "\n",
    "A Bloom filter consists of a bit array of a fixed size (typically a large number of bits) and a set of independent hash functions. When an element is added to the Bloom filter, it is hashed by each of the hash functions, and the corresponding bits in the bit array are set to 1. The more hash functions used, the lower the probability of false positives.\n",
    "\n",
    "To check if an element is in the set, it is hashed by the same set of hash functions, and the corresponding bits in the Bloom filter are examined. If any of these bits are zero, then the element is definitely not in the set. However, if all the bits are one, the element is likely in the set, but there is a possibility of a false positive.\n",
    "\n",
    "The key advantage of Bloom filters is their space efficiency. They require much less memory compared to storing the entire set of elements. However, there is a trade-off between space efficiency and accuracy. As the number of elements in the set increases, the probability of false positives also increases.\n",
    "\n",
    "Bloom filters are commonly used in various data mining and information retrieval applications. They can be utilized to quickly filter out elements that are not in a set, reducing the need for expensive disk or network accesses. They are particularly useful in scenarios where the cost of false positives is acceptable, such as caching, spell checking, network routers, and web search engines."
   ]
  },
  {
   "cell_type": "markdown",
   "metadata": {},
   "source": [
    "## Setting up the Notebook\n",
    "\n",
    "### Make all Required Imports\n",
    "\n",
    "This notebook requires the [`bitarray`](https://pypi.org/project/bitarray/) package."
   ]
  },
  {
   "cell_type": "code",
   "execution_count": null,
   "metadata": {},
   "outputs": [],
   "source": [
    "import numpy as np\n",
    "import pandas as pd\n",
    "\n",
    "import hashlib\n",
    "from bitarray import bitarray\n",
    "from bitarray.util import ba2int, int2ba"
   ]
  },
  {
   "cell_type": "markdown",
   "metadata": {},
   "source": [
    "### Create Set S\n",
    "\n",
    "We use the simple example from the lecture, where we want to whitelist 5 email addresses for a spam filter."
   ]
  },
  {
   "cell_type": "code",
   "execution_count": null,
   "metadata": {},
   "outputs": [],
   "source": [
    "S = [\n",
    " 'alice@gmail.com',\n",
    " 'bob@yahoo.com',\n",
    " 'chris@comp.nus.edu.sg',\n",
    " 'dave@outlook.com',\n",
    " 'erin@hotmail.com'\n",
    "]\n",
    "\n",
    "print(S)"
   ]
  },
  {
   "cell_type": "markdown",
   "metadata": {},
   "source": [
    "---"
   ]
  },
  {
   "cell_type": "markdown",
   "metadata": {},
   "source": [
    "## (Basic) Bloom Filter\n",
    "\n",
    "In its core, a Bloom Filter is bit array `B` of a fixed size. Using $1..k$ hash function, an element is mapped to $k$ positions in the bit array -- in principle, it can be less than $k$ positions if one or more of the $k$ hash functions map to the same position.\n",
    "\n",
    "\n",
    "### Define Hash Function\n",
    "\n",
    "The following function maps an arbitrary string to an integer:\n",
    "\n",
    "* `num_digits`: specifies the maximum number of digits and therefore the range of the possible hash values. For example, if `num_digits=3` the possible values are in `[0, 999]`.\n",
    "\n",
    "* `nr`: A simple/naive way to simulate multiple hash functions. `nr` is just a factor the input string is multiple with to yield a different hash value. For example, `'Hello World'*3`, i.e., `nr=3`, results in `'Hello WorldHello WorldHello World'`\n",
    "\n",
    "Note that the definition of \"good\" hash functions is an important subject on its own and beyond our scope here."
   ]
  },
  {
   "cell_type": "code",
   "execution_count": null,
   "metadata": {},
   "outputs": [],
   "source": [
    "def h(s, num_digits=1, nr=1):\n",
    "    return int(hashlib.sha1((s*nr).encode(\"utf-8\")).hexdigest(), 16) % (10 ** num_digits)"
   ]
  },
  {
   "cell_type": "markdown",
   "metadata": {},
   "source": [
    "Let's quickly test method `h()` with different values for `num_digits` and `nr`."
   ]
  },
  {
   "cell_type": "code",
   "execution_count": null,
   "metadata": {},
   "outputs": [],
   "source": [
    "s = 'Hello World'\n",
    "\n",
    "for num_digits in range(1, 4):\n",
    "    for nr in range(1, 4):\n",
    "        hash_value = h(s, num_digits=num_digits, nr=nr)\n",
    "        \n",
    "        print('Hash value for \"{}\" (num_digits={}, nr={}): {}'.format(s, num_digits, nr, hash_value))"
   ]
  },
  {
   "cell_type": "markdown",
   "metadata": {},
   "source": [
    "### Initialize Bit Array B\n",
    "\n",
    "Creating and initializing bit array B is straightforward, particularly when using the [`bitarray`](https://pypi.org/project/bitarray/) package."
   ]
  },
  {
   "cell_type": "code",
   "execution_count": null,
   "metadata": {},
   "outputs": [],
   "source": [
    "def init_B(num_buckets):\n",
    "    B = bitarray(num_buckets, endian='big')\n",
    "    B.setall(False)\n",
    "    return B\n",
    "\n",
    "B = init_B(10)\n",
    "\n",
    "print('B = {}'.format(B))"
   ]
  },
  {
   "cell_type": "markdown",
   "metadata": {},
   "source": [
    "Setting the elements of the bit array is as easy as setting the elements of a list."
   ]
  },
  {
   "cell_type": "code",
   "execution_count": null,
   "metadata": {},
   "outputs": [],
   "source": [
    "# Both 1 and True can be used to set a bit\n",
    "B[3] = 1\n",
    "B[9] = True\n",
    "\n",
    "print('B = {}'.format(B))"
   ]
  },
  {
   "cell_type": "markdown",
   "metadata": {},
   "source": [
    "### Filling B Using S\n",
    "\n",
    "We define 2 helper methods to fill the bit array `B`. Method `add_key()` adds a single key `s` to `B`. To this end, the method applies `num_hash_functions` to the key and sets the respective positions in `B` to 1. Method `fill_B()` loops over all keys in `S` and calls `add_key()` to add each key to the bit array `B`."
   ]
  },
  {
   "cell_type": "code",
   "execution_count": null,
   "metadata": {},
   "outputs": [],
   "source": [
    "def add_key(s, B, num_digits, num_hash_functions):\n",
    "    for nr in range(1, num_hash_functions+1):\n",
    "        # Hash key to 0..10^{num_digits}\n",
    "        pos = h(s, num_digits=num_digits, nr=nr)\n",
    "        # Set the bit at position pos to 1\n",
    "        B[pos] = 1\n",
    "\n",
    "\n",
    "def fill_B(S, B, num_digits, num_hash_functions):\n",
    "    # Loop over all keys s in S\n",
    "    for s in S:\n",
    "        add_key(s, B, num_digits, num_hash_functions)"
   ]
  },
  {
   "cell_type": "markdown",
   "metadata": {},
   "source": [
    "With these 2 methods, we can add our set S of 5 email addresses to B. By default, we use `num_digits=2` which requires an bit array of size `10**num_digits`, as well as 3 hash functions. With `num_digits=2`, B will be still small enough to inspect it visually. But feel free to change the parameters."
   ]
  },
  {
   "cell_type": "code",
   "execution_count": null,
   "metadata": {},
   "outputs": [],
   "source": [
    "num_digits = 2\n",
    "num_buckets = 10 ** num_digits\n",
    "num_hash_functions = 3\n",
    "\n",
    "B = init_B(num_buckets)\n",
    "fill_B(S, B, num_digits, num_hash_functions)\n",
    "\n",
    "print(B)"
   ]
  },
  {
   "cell_type": "markdown",
   "metadata": {},
   "source": [
    "### Check/Lookup Keys\n",
    "\n",
    "With B in place, we can now check if an element is in S. The method `check_key()` works very similar to `add_key()` by applying the `num_hash_functions` hash function to the element to get the respective positions in B. If *all* the bits in the respective positions are 1, the element is considered to be in set S."
   ]
  },
  {
   "cell_type": "code",
   "execution_count": null,
   "metadata": {},
   "outputs": [],
   "source": [
    "def check_key(s, B, num_digits, num_hash_functions):\n",
    "    cnt = 0\n",
    "    for nr in range(1, num_hash_functions+1):\n",
    "        # Hash key to 0..10^{num_digits}\n",
    "        pos = h(s, num_digits=num_digits, nr=nr)\n",
    "        # Sum up the bit values at the respective positions\n",
    "        cnt += int(B[pos])\n",
    "    # Check if all positions are set to 1\n",
    "    if cnt == num_hash_functions:\n",
    "        return True\n",
    "    else:\n",
    "        return False"
   ]
  },
  {
   "cell_type": "markdown",
   "metadata": {},
   "source": [
    "Let's test the method. You can change string `s` to any arbitrary string."
   ]
  },
  {
   "cell_type": "code",
   "execution_count": null,
   "metadata": {},
   "outputs": [],
   "source": [
    "s = 'erin@hotmail.com'\n",
    "#s = 'scammer@hotmail.com'\n",
    "        \n",
    "found = check_key(s, B, num_digits, num_hash_functions)\n",
    "\n",
    "if found == True:\n",
    "    print('Key \"{}\" is (most likely!) in B'.format(s))\n",
    "else:\n",
    "    print('Key \"{}\" is definitely not in B'.format(s))"
   ]
  },
  {
   "cell_type": "markdown",
   "metadata": {},
   "source": [
    "### False Positive Rate\n",
    "\n",
    "We have seen in the lecture that Bloom Filters can result in false positives -- that is, a key that is not in S is \"found\" in B because it so happens that all hash functions map that key to bits that are set to 1. More precisely, the calculates as\n",
    "\n",
    "$$\n",
    "1 - e^{-\\frac{|S|}{|B|}}\n",
    "$$\n",
    "\n",
    "Simply speaking, the error rate goes down if we increase the size of B or set S contains less elements. This is rather intuitive.\n",
    "\n",
    "To get a better sense of this problem, we use a file containing ~100k dictionary English words and check if they are in S with respect to our Bloom Filter. By default, we use the same values for the parameters as above: `num_digits=2` and `num_hash_function=3`. None of those words are email addresses so we already know that none of those words should be found in B. Hence, every hit we can count as false positive."
   ]
  },
  {
   "cell_type": "code",
   "execution_count": null,
   "metadata": {},
   "outputs": [],
   "source": [
    "%%time\n",
    "\n",
    "num_digits = 2\n",
    "num_buckets = 10 ** num_digits\n",
    "num_hash_functions = 3\n",
    "\n",
    "B = init_B(num_buckets)\n",
    "fill_B(S, B, num_digits, num_hash_functions)\n",
    "\n",
    "\n",
    "num_false_positives = 0\n",
    "\n",
    "with open('data/datasets/language/english-lowercase.txt') as f:\n",
    "    for line in f:\n",
    "        word = line.strip()\n",
    "        if check_key(word, B, num_digits, num_hash_functions) == True:\n",
    "            num_false_positives += 1\n",
    "\n",
    "            \n",
    "print('Number of false positives: {}'.format(num_false_positives))"
   ]
  },
  {
   "cell_type": "markdown",
   "metadata": {},
   "source": [
    "For `num_digits=2` and `num_hash_function=3` we get indeed 199 false positives. However, once we increase the size of `B` and thus decrease the probability of false positives, no dictionary word will be found in B.\n",
    "\n",
    "Of course, in this example, our set S was extremely small so a bit array with 1000 bits is already sufficient. In practice, Bloom Filters can easily have a size of several billion bits, since 8 billion bits translate to 1 GB which can easily be kept in memory on most machines."
   ]
  },
  {
   "cell_type": "markdown",
   "metadata": {},
   "source": [
    "## Counting Bloom Filter\n",
    "\n",
    "As you already know, a basic Bloom filter does not support the removal of items in S. If keys get removed from S, in principle, the bit array as to be re-created from scratch. The issues is that we cannot simply set bits from 1 back to zero when deleting a key, since a 1 bit could haven been set by multiple keys.\n",
    "\n",
    "A solution to this problem are Counting Bloom Filter which replace a single bit in the array with multiple bits which in themselves represent a counter. For example, using 3 bits, one can represent a count from 0 to 7. Of curse, a a trade off the overall size of the bit arrays increases by a factor of 3\n",
    "\n",
    "\n",
    "### Bit Array B\n",
    "\n",
    "Initializing B for a Counting Bloom Filter is still straightforward; we only need to extend its size accordingnumber of bits required to represent each counter in B."
   ]
  },
  {
   "cell_type": "code",
   "execution_count": null,
   "metadata": {},
   "outputs": [],
   "source": [
    "def init_counting_B(num_buckets, bits_per_counter):\n",
    "    B = bitarray(num_buckets*bits_per_counter)\n",
    "    B.setall(False)\n",
    "    return B\n",
    "\n",
    "B = init_counting_B(10, 3)\n",
    "\n",
    "print('B = {}'.format(B))"
   ]
  },
  {
   "cell_type": "markdown",
   "metadata": {},
   "source": [
    "### Updating a Counter\n",
    "\n",
    "Each time we want to add or delete a key, we have to update all respective counters in B -- that is, the counters that are identified by the different hash functions. Each update either increases or increases a counter by 1. The method `update_counter()` implements this.\n",
    "\n",
    "Recall that the counter might overflow or underflow (e.g., if a key gets deleted that never was added). Both cases are pathological and we simply raise an exception here."
   ]
  },
  {
   "cell_type": "code",
   "execution_count": null,
   "metadata": {},
   "outputs": [],
   "source": [
    "def update_counter(counter, bits_per_counter, update='inc'):\n",
    "    \n",
    "    # Convert bit array to integer value\n",
    "    int_val = ba2int(counter)\n",
    "    \n",
    "    # Depending on the update method, increase or decrease the integer value by one\n",
    "    if update == 'inc':\n",
    "        int_val += 1\n",
    "    else:\n",
    "        int_val -= 1\n",
    "    \n",
    "    # If the integer value is negative, raise an exception\n",
    "    if int_val < 0:\n",
    "        raise Exception('Error: bit counter < 0')\n",
    "        \n",
    "    # If the counter overflows, raise an axception\n",
    "    if int_val >= 2**bits_per_counter:\n",
    "        raise Exception('Error: counter larger than max size')\n",
    "        \n",
    "    # Convert integer value to a bit string, adding leading zeros if needed\n",
    "    bit_string = format(int_val, '0{}b'.format(bits_per_counter))\n",
    "    \n",
    "    # return new counter as bitarray object\n",
    "    return bitarray(bit_string)"
   ]
  },
  {
   "cell_type": "markdown",
   "metadata": {},
   "source": [
    "### Updating B Given a Key s\n",
    "\n",
    "Since inserting and deleting keys require more or less the same steps, we define a method `update_key()` to reduce all counters for a given key `s`. The methods `insert_key()` and `delete_key()` simply call method `update_key` with the respective parameters."
   ]
  },
  {
   "cell_type": "code",
   "execution_count": null,
   "metadata": {},
   "outputs": [],
   "source": [
    "def update_key(s, B, num_digits, num_hash_functions, bits_per_counter, update):\n",
    "    for nr in range(1, num_hash_functions+1):\n",
    "        # Hash key to 0..10^{num_digits}\n",
    "        pos = h(s, num_digits=num_digits, nr=nr)\n",
    "        # Get the counter from B\n",
    "        counter = B[pos*bits_per_counter:(pos*bits_per_counter+bits_per_counter)]\n",
    "        # update counter\n",
    "        if update == 'insert':\n",
    "            counter = update_counter(counter, bits_per_counter, update='inc')\n",
    "        else:\n",
    "            counter = update_counter(counter, bits_per_counter, update='dec')\n",
    "        # Set updated counter in B\n",
    "        B[pos*bits_per_counter:(pos*bits_per_counter+bits_per_counter)] = counter\n",
    "        \n",
    "        \n",
    "def insert_key(s, B, num_digits, num_hash_functions, bits_per_counter):\n",
    "    update_key(s, B, num_digits, num_hash_functions, bits_per_counter, 'insert')\n",
    "\n",
    "    \n",
    "def delete_key(s, B, num_digits, num_hash_functions, bits_per_counter):\n",
    "    update_key(s, B, num_digits, num_hash_functions, bits_per_counter, 'delete')"
   ]
  },
  {
   "cell_type": "markdown",
   "metadata": {},
   "source": [
    "#### Test: Insert Keys\n",
    "\n",
    "As a simple test, we try to insert the same key `s` 10 times. This helps us to visualize what's going on, as well as to see if the exception is raised if a counter overflows."
   ]
  },
  {
   "cell_type": "code",
   "execution_count": null,
   "metadata": {},
   "outputs": [],
   "source": [
    "num_digits = 1\n",
    "num_buckets = 10 ** num_digits\n",
    "num_hash_functions = 3\n",
    "bits_per_counter = 3\n",
    "\n",
    "B = init_counting_B(num_buckets, bits_per_counter)\n",
    "\n",
    "s = 'Hello World'\n",
    "\n",
    "for _ in range(10):\n",
    "    try:\n",
    "        insert_key(s, B, num_digits, num_hash_functions, bits_per_counter)\n",
    "        print(B)\n",
    "    except Exception as e:\n",
    "        print(e)"
   ]
  },
  {
   "cell_type": "markdown",
   "metadata": {},
   "source": [
    "Since we use 3 hash functions, we can see the 3 individual counters increasing after each insert. When we try to insert the same key `s` for the 8th time, we get an error since a counter of 3 bits can no longer represent this count. That means our check for overflows works correctly.\n",
    "\n",
    "#### Test: Delete  Keys\n",
    "\n",
    "In the test below, we first add a key `s` once and then try to delete it twice. While the first delete should result in a bit array with all bits set to zero again, the second attempt to delete `s` should throw an error."
   ]
  },
  {
   "cell_type": "code",
   "execution_count": null,
   "metadata": {},
   "outputs": [],
   "source": [
    "num_digits = 1\n",
    "num_buckets = 10 ** num_digits\n",
    "num_hash_functions = 3\n",
    "bits_per_counter = 3\n",
    "\n",
    "B = init_counting_B(num_buckets, bits_per_counter)\n",
    "\n",
    "s = 'Hello World'\n",
    "\n",
    "try:\n",
    "    insert_key(s, B, num_digits, num_hash_functions, bits_per_counter)\n",
    "    print(B)\n",
    "    delete_key(s, B, num_digits, num_hash_functions, bits_per_counter)\n",
    "    print(B)\n",
    "    delete_key(s, B, num_digits, num_hash_functions, bits_per_counter)\n",
    "    print(B)\n",
    "except Exception as e:\n",
    "    print(e)"
   ]
  },
  {
   "cell_type": "markdown",
   "metadata": {},
   "source": [
    "As expected, the insert and the first delete work just fine. Trying to delete `s` a second time would result in an underflow of the counter. We therefore correctly see the exception raised."
   ]
  },
  {
   "cell_type": "markdown",
   "metadata": {},
   "source": [
    "### Creating B\n",
    "\n",
    "Now we can create `B` with our example set `S` containing the 5 email addresses by calling `insert_key` for each email address in `S`."
   ]
  },
  {
   "cell_type": "code",
   "execution_count": null,
   "metadata": {},
   "outputs": [],
   "source": [
    "num_digits = 2\n",
    "num_buckets = 10 ** num_digits\n",
    "num_hash_functions = 3\n",
    "bits_per_counter = 3\n",
    "\n",
    "B = init_counting_B(num_buckets, bits_per_counter)\n",
    "\n",
    "for s in S:\n",
    "    insert_key(s, B, num_digits, num_hash_functions, bits_per_counter)\n",
    "\n",
    "print(B)"
   ]
  },
  {
   "cell_type": "markdown",
   "metadata": {},
   "source": [
    "### Check/Lookup Keys\n",
    "\n",
    "The lookup of keys is pretty much identical to the basic Bloom Filters. We only need to check if all counters -- identified by the hash functions -- are greater than zero."
   ]
  },
  {
   "cell_type": "code",
   "execution_count": null,
   "metadata": {},
   "outputs": [],
   "source": [
    "def check_key_counting(s, B, num_digits, num_hash_functions):\n",
    "    cnt = 0\n",
    "    for nr in range(1, num_hash_functions+1):\n",
    "        # Hash key to 0..10^{num_digits}\n",
    "        pos = h(s, num_digits=num_digits, nr=nr)\n",
    "        \n",
    "        # Get counter (i.e. the respective bits)\n",
    "        counter = B[pos*bits_per_counter:(pos*bits_per_counter+bits_per_counter)]\n",
    "        \n",
    "        # Convert counter bit array to integer and check if it is larger than 0\n",
    "        if ba2int(counter) > 0:\n",
    "            cnt += 1\n",
    "        \n",
    "    # Check if all positions are set to 1\n",
    "    if cnt == num_hash_functions:\n",
    "        return True\n",
    "    else:\n",
    "        return False"
   ]
  },
  {
   "cell_type": "markdown",
   "metadata": {},
   "source": [
    "#### Test: Check for Presence of a Key s in B\n",
    "\n",
    "Given our bit array B, we can now check if a key `s` can be found in `B`. By default, `s` is an email address we know is in S, so the result should be positive. Feel free to change `s` and check the output."
   ]
  },
  {
   "cell_type": "code",
   "execution_count": null,
   "metadata": {},
   "outputs": [],
   "source": [
    "s = 'erin@hotmail.com'\n",
    "#s = 'scammer@hotmail.com'\n",
    "        \n",
    "found = check_key_counting(s, B, num_digits, num_hash_functions)\n",
    "\n",
    "if found == True:\n",
    "    print('Key \"{}\" is (most likely!) in B'.format(s))\n",
    "else:\n",
    "    print('Key \"{}\" is definitely not in B'.format(s))"
   ]
  },
  {
   "cell_type": "markdown",
   "metadata": {},
   "source": [
    "#### Test: Check for Presence of a Key s in B after Deleting it\n",
    "\n",
    "Since we now have a Counting Bloom Filter, we can now delete keys. The following example shows the removal of a key and the lookup of that key after the deletion. Of course, this lookup should fail."
   ]
  },
  {
   "cell_type": "code",
   "execution_count": null,
   "metadata": {},
   "outputs": [],
   "source": [
    "s = 'erin@hotmail.com'\n",
    "\n",
    "delete_key(s, B, num_digits, num_hash_functions, bits_per_counter)\n",
    "\n",
    "found = check_key_counting(s, B, num_digits, num_hash_functions)\n",
    "\n",
    "if found == True:\n",
    "    print('Key \"{}\" is (most likely!) in B'.format(s))\n",
    "else:\n",
    "    print('Key \"{}\" is definitely not in B'.format(s))\n"
   ]
  },
  {
   "cell_type": "markdown",
   "metadata": {},
   "source": [
    "**Important:** This implementation of a Counting Bloom Filter is rather simplistic. For example, when delete a key, the method `update_key()` does not check if updating all counters were successful. For example, it can happen that decreasing the counter with respect to the first 2 hash functions will work but fail for the 3rd hash function. This should raise an exception and should not decrease any of the 3 counters."
   ]
  },
  {
   "cell_type": "markdown",
   "metadata": {},
   "source": [
    "---"
   ]
  },
  {
   "cell_type": "markdown",
   "metadata": {},
   "source": [
    "## Summary\n",
    "\n",
    "Bloom filters are probabilistic data structures used for efficient membership testing in data mining and information retrieval applications. They provide a space-efficient solution for determining whether an element is a member of a set or not, using a minimal amount of memory.\n",
    "\n",
    "The key advantage of Bloom filters is their compactness. They require significantly less memory compared to storing the entire set of elements. This makes them suitable for scenarios where memory usage is a concern. Additionally, Bloom filters offer constant-time complexity for insertion and membership testing operations, regardless of the size of the set.\n",
    "\n",
    "However, Bloom filters come with some limitations. One notable drawback is the potential for false positives. Due to the probabilistic nature of the data structure, there is a small probability of mistakenly indicating that an element is in the set when it is not. The probability of false positives increases as the number of elements in the set or the occupancy of the Bloom filter increases.\n",
    "\n",
    "Another limitation is that at least Bloom filters do not support element deletion. Once an element is inserted, it cannot be removed from the filter without affecting the accuracy of other elements. Therefore, Bloom filters are typically used for static sets or applications where insertions are frequent but deletions are not required. While Counting Bloom filters support element deletion, they come with the trade-off of increased memory requirements (and some additional computing requirements).\n",
    "\n",
    "In summary, Bloom filters offer a space-efficient solution for membership testing by utilizing a compact bit array and independent hash functions. They provide fast insertion and lookup operations with a low memory footprint. However, the trade-off is a possibility of false positives and the inability to delete elements. Bloom filters are well-suited for scenarios where memory efficiency is crucial, and a small rate of false positives is acceptable."
   ]
  },
  {
   "cell_type": "code",
   "execution_count": null,
   "metadata": {},
   "outputs": [],
   "source": []
  }
 ],
 "metadata": {
  "kernelspec": {
   "display_name": "cs5246",
   "language": "python",
   "name": "cs5246"
  },
  "language_info": {
   "codemirror_mode": {
    "name": "ipython",
    "version": 3
   },
   "file_extension": ".py",
   "mimetype": "text/x-python",
   "name": "python",
   "nbconvert_exporter": "python",
   "pygments_lexer": "ipython3",
   "version": "3.9.15"
  }
 },
 "nbformat": 4,
 "nbformat_minor": 4
}
