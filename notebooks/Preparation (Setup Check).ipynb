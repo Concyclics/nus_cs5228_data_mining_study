{
 "cells": [
  {
   "cell_type": "markdown",
   "id": "2355e4c8-f427-4344-a64f-4ae0d9701879",
   "metadata": {},
   "source": [
    "<img src=\"data/images/lecture-notebook-header.png\" />"
   ]
  },
  {
   "cell_type": "markdown",
   "id": "6b9693fc-add7-4ae9-96a7-b4a5e42b9f59",
   "metadata": {},
   "source": [
    "# Preparation: Setup Check\n",
    "\n",
    "The purpose of this notebook is to provide some checks if the most important packages needed for this course are installed. If none of the code cells below throw an error, you should be ready to go for the course. In case you get an error stating that a package is missing, you may want to install it using `pip`, `conda`, or `mamba` -- depending on your Python installation and package manager.\n",
    "\n",
    "Note that individual notebooks might require the import of additional packages. Here, we cover only the most common and frequently used ones."
   ]
  },
  {
   "cell_type": "markdown",
   "id": "3da33d58-2aef-4c5a-8a4f-81219a512a58",
   "metadata": {},
   "source": [
    "## Python Installation\n",
    "\n",
    "We recommend using Python 3.9 to ensure that all required packages are fully supported; although Python 3.10 should also cause no problems. You can check the in-built `sys` module to see which Python version you are using."
   ]
  },
  {
   "cell_type": "code",
   "execution_count": null,
   "id": "5d3aecb3-ded8-4bf5-b2f8-bc1b9a90e6d6",
   "metadata": {},
   "outputs": [],
   "source": [
    "import sys\n",
    "print(sys.version)"
   ]
  },
  {
   "cell_type": "markdown",
   "id": "094f03c0-e277-400f-9850-b492d680dd74",
   "metadata": {},
   "source": [
    "## Core Data Science Packages"
   ]
  },
  {
   "cell_type": "markdown",
   "id": "9d67ca96-0a50-4595-be19-5a7bb32fc750",
   "metadata": {},
   "source": [
    "### NumPy\n",
    "\n",
    "NumPy is a widely used Python package for numerical computing. It stands for \"Numerical Python\" and provides efficient and high-performance operations on large, multi-dimensional arrays and matrices. NumPy is a fundamental library in the Python scientific computing ecosystem and serves as a building block for many other data science and machine learning libraries."
   ]
  },
  {
   "cell_type": "code",
   "execution_count": null,
   "id": "07d9dcd4-adf9-4b42-8d73-aa42e5e0ed46",
   "metadata": {},
   "outputs": [],
   "source": [
    "import numpy"
   ]
  },
  {
   "cell_type": "markdown",
   "id": "0460f054-4415-46a9-9025-538489d13a35",
   "metadata": {},
   "source": [
    "### Pandas\n",
    "\n",
    "Pandas is a powerful Python library for data manipulation and analysis. It provides high-performance, easy-to-use data structures and data analysis tools, making it a popular choice for working with structured and tabular data. Pandas builds on top of NumPy and extends its functionality with additional features tailored for data analysis tasks. Pandas is widely used in data analysis, data exploration, data cleaning, feature engineering, and other data-related tasks. It offers a comprehensive set of tools that make working with structured data in Python more convenient and efficient."
   ]
  },
  {
   "cell_type": "code",
   "execution_count": null,
   "id": "e404fc26-5f64-4ea1-bfa7-47e37b9194b2",
   "metadata": {},
   "outputs": [],
   "source": [
    "import pandas"
   ]
  },
  {
   "cell_type": "markdown",
   "id": "b2a55040-296f-46c9-919a-a097d0a750a9",
   "metadata": {},
   "source": [
    "### Scikit-Learn\n",
    "\n",
    "The \"sklearn\" abbreviation commonly refers to the popular Python library called scikit-learn. Scikit-learn is a powerful machine learning library that provides a wide range of algorithms and tools for data mining, data analysis, and machine learning tasks. It is built on top of other scientific Python libraries such as NumPy, SciPy, and matplotlib. Scikit-learn is widely used for various machine learning tasks, including classification, regression, clustering, and dimensionality reduction. It provides a user-friendly interface and a rich set of functionalities, making it a valuable tool for both beginners and experienced practitioners in the field of machine learning."
   ]
  },
  {
   "cell_type": "code",
   "execution_count": null,
   "id": "006b1943-666d-4f73-be30-35337b20b086",
   "metadata": {},
   "outputs": [],
   "source": [
    "import sklearn"
   ]
  },
  {
   "cell_type": "markdown",
   "id": "19c99a2c-4e63-4867-87d7-9cfec0bb3957",
   "metadata": {},
   "source": [
    "### Matplotlib & Seaborn\n",
    "\n",
    "Matplotlib is a popular Python library for creating static, animated, and interactive visualizations. It provides a comprehensive set of tools for generating plots, charts, histograms, scatter plots, and many other types of visualizations. Matplotlib is widely used in data analysis, scientific research, and data visualization tasks. Matplotlib is a powerful and versatile library for data visualization in Python. It offers a wide range of plotting options, customization features, and integration with other scientific libraries. Whether you need to create simple visualizations or complex, interactive plots, Matplotlib provides the tools and flexibility to meet your data visualization needs.\n",
    "\n",
    "Seaborn is a Python data visualization library based on Matplotlib. It provides a high-level interface for creating visually appealing and informative statistical graphics. Seaborn is built on top of Matplotlib and enhances its functionalities, making it easier to generate complex visualizations with fewer lines of code. Seaborn is particularly useful for exploring and visualizing relationships in datasets, especially in the context of statistical analysis. Seaborn is a powerful library for creating visually appealing and informative statistical visualizations. It simplifies the process of generating complex plots and provides specialized functions for exploring relationships in data. Whether you are working on exploratory data analysis, statistical modeling, or data communication, Seaborn can enhance your visualization workflow and help you gain insights from your data."
   ]
  },
  {
   "cell_type": "code",
   "execution_count": null,
   "id": "2fff0389-1c43-4a82-a9bf-be5cf1b3bb0d",
   "metadata": {},
   "outputs": [],
   "source": [
    "import matplotlib\n",
    "import seaborn"
   ]
  },
  {
   "cell_type": "markdown",
   "id": "ea912169-0ab0-4444-9dc8-33b1c65441a1",
   "metadata": {},
   "source": [
    "### NetworkX\n",
    "\n",
    "The `networkx` package is a Python library used for the creation, manipulation, and study of the structure, dynamics, and functions of complex networks. It provides a powerful toolset for working with network data, including graphs, nodes, edges, and various algorithms for analyzing and visualizing networks. `networkx` is widely used in diverse fields, including social network analysis, bioinformatics, recommendation systems, and transportation networks. `networkx` provides a comprehensive set of tools and algorithms for working with networks. It allows for the creation, manipulation, analysis, and visualization of complex networks, making it a valuable tool for studying network structures and properties. Whether you are exploring social networks, analyzing biological networks, or modeling interconnected systems, `networkx` provides a flexible and powerful framework for network analysis in Python."
   ]
  },
  {
   "cell_type": "code",
   "execution_count": null,
   "id": "c008b06f-5d67-40ee-bdf9-3845f8adb31e",
   "metadata": {},
   "outputs": [],
   "source": [
    "import networkx"
   ]
  },
  {
   "cell_type": "markdown",
   "id": "05d22e16-3bd9-4838-af33-c13f807913fc",
   "metadata": {},
   "source": [
    "## Additional Packages"
   ]
  },
  {
   "cell_type": "markdown",
   "id": "a05651cc-efb9-492a-9feb-d8b319b06c67",
   "metadata": {},
   "source": [
    "### Efficient-Apriori\n",
    "\n",
    "`efficient-apriori` is a Python library that implements the Apriori algorithm, a popular algorithm for frequent itemset mining and association rule learning. The library provides a fast and memory-efficient implementation of the algorithm, making it suitable for analyzing large datasets. It is designed to find frequent itemsets in a transactional dataset, where each transaction is a set of items. It calculates the support of each itemset, which represents the frequency of occurrence of that itemset in the dataset. The library then generates association rules based on the frequent itemsets, allowing you to discover relationships between items."
   ]
  },
  {
   "cell_type": "code",
   "execution_count": null,
   "id": "6ee4d740-e7eb-456f-8fe9-118ce53ef89a",
   "metadata": {},
   "outputs": [],
   "source": [
    "import efficient_apriori"
   ]
  },
  {
   "cell_type": "code",
   "execution_count": null,
   "id": "c5788a8b-3dfc-45b5-9f4e-ce94bddc8350",
   "metadata": {},
   "outputs": [],
   "source": []
  }
 ],
 "metadata": {
  "kernelspec": {
   "display_name": "cs5246",
   "language": "python",
   "name": "cs5246"
  },
  "language_info": {
   "codemirror_mode": {
    "name": "ipython",
    "version": 3
   },
   "file_extension": ".py",
   "mimetype": "text/x-python",
   "name": "python",
   "nbconvert_exporter": "python",
   "pygments_lexer": "ipython3",
   "version": "3.9.15"
  }
 },
 "nbformat": 4,
 "nbformat_minor": 5
}
