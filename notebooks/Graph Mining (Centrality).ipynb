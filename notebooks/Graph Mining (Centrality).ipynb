{
 "cells": [
  {
   "cell_type": "markdown",
   "metadata": {},
   "source": [
    "<img src=\"data/images/lecture-notebook-header.png\" />"
   ]
  },
  {
   "cell_type": "markdown",
   "metadata": {},
   "source": [
    "# Graph Mining: Centrality\n",
    "\n",
    "In the context of graph mining, centrality refers to the measure of importance or influence of a node within a graph. It quantifies the relative significance or prominence of a node based on its position and connections within the network.\n",
    "\n",
    "Centrality measures help identify nodes that play crucial roles in various aspects of a graph, such as communication flow, information dissemination, and influence propagation. They are widely used in social network analysis, biological networks, transportation networks, citation networks, and various other fields. There are several different centrality measures commonly used in graph mining, including:\n",
    "\n",
    "* **Degree Centrality:** It is a simple measure that counts the number of direct connections a node has. Nodes with high degree centrality are considered important hubs within the network.\n",
    "\n",
    "* **Betweenness Centrality:** This measure quantifies the extent to which a node lies on the shortest paths between other nodes in the graph. Nodes with high betweenness centrality act as bridges or intermediaries between different parts of the network.\n",
    "\n",
    "* **Closeness Centrality:** It measures how close a node is to all other nodes in terms of the shortest path length. Nodes with high closeness centrality have more efficient access to information or resources in the network.\n",
    "\n",
    "* **Eigenvector Centrality:** This measure considers both the node's direct connections and the centrality of its neighboring nodes. Nodes with high eigenvector centrality are connected to other highly central nodes, indicating their influence and importance.\n",
    "\n",
    "* **PageRank Centrality:** Originally developed for ranking web pages, PageRank assigns centrality based on the idea that a node is important if it is connected to other important nodes. It considers the entire graph structure to determine the centrality of each node.\n",
    "\n",
    "These centrality measures provide different perspectives on the importance of nodes within a graph and can be used to identify key entities, influencers, or critical points within a network. The specific choice of centrality measure depends on the characteristics of the graph and the analysis goals."
   ]
  },
  {
   "cell_type": "markdown",
   "metadata": {},
   "source": [
    "## Setting up the Notebook\n",
    "\n",
    "### Specify how Plots Get Rendered"
   ]
  },
  {
   "cell_type": "code",
   "execution_count": null,
   "metadata": {},
   "outputs": [],
   "source": [
    "%matplotlib inline"
   ]
  },
  {
   "cell_type": "markdown",
   "metadata": {},
   "source": [
    "### Make all Required Imports"
   ]
  },
  {
   "cell_type": "code",
   "execution_count": null,
   "metadata": {},
   "outputs": [],
   "source": [
    "import numpy as np\n",
    "import pandas as pd\n",
    "import networkx as nx\n",
    "\n",
    "import matplotlib.pyplot as plt\n",
    "\n",
    "from networkx.algorithms.centrality import in_degree_centrality, closeness_centrality, betweenness_centrality\n",
    "from networkx.algorithms.link_analysis.pagerank_alg import pagerank"
   ]
  },
  {
   "cell_type": "markdown",
   "metadata": {},
   "source": [
    "---"
   ]
  },
  {
   "cell_type": "markdown",
   "metadata": {},
   "source": [
    "## Generate Graph\n",
    "\n",
    "Throughout this notebook, we use the example graph from the [PageRank Wikipedia page](https://en.wikipedia.org/wiki/PageRank) which we also used in the lecture. It's small but still \"interesting\" enough to see the differences between different centrality measures.\n",
    "\n",
    "### Define Graph Using Adjacency Matrix\n",
    "\n",
    "There are many ways to define a graph with `networkX`. Here, we simply define the graph via its adjacency matrix, which is a basic 2-dimensional `numpy` array. As our example graph is unweighted, all entries in the adjacency matrix are 1."
   ]
  },
  {
   "cell_type": "code",
   "execution_count": null,
   "metadata": {},
   "outputs": [],
   "source": [
    "A = np.array([\n",
    "    [0, 0, 0, 0, 0, 0, 0, 0, 0, 0, 0],\n",
    "    [0, 0, 1, 0, 0, 0, 0, 0, 0, 0, 0],\n",
    "    [0, 1, 0, 0, 0, 0, 0, 0, 0, 0, 0],\n",
    "    [1, 1, 0, 0, 0, 0, 0, 0, 0, 0, 0],\n",
    "    [0, 1, 0, 1, 0, 1, 0, 0, 0, 0, 0],\n",
    "    [0, 1, 0, 0, 1, 0, 0, 0, 0, 0, 0],\n",
    "    [0, 1, 0, 0, 1, 0, 0, 0, 0, 0, 0],\n",
    "    [0, 1, 0, 0, 1, 0, 0, 0, 0, 0, 0],\n",
    "    [0, 1, 0, 0, 1, 0, 0, 0, 0, 0, 0],\n",
    "    [0, 0, 0, 0, 1, 0, 0, 0, 0, 0, 0],\n",
    "    [0, 0, 0, 0, 1, 0, 0, 0, 0, 0, 0]\n",
    "], dtype=float)"
   ]
  },
  {
   "cell_type": "markdown",
   "metadata": {},
   "source": [
    "### Create Directed Graph Using NetworkX\n",
    "\n",
    "The `networkX` class `DiGraph` defines directed graphs. We can use the adjacency matrix A to create an object of type `DiGraph` to represent our example graph. All the additional lines are only needed to specify the locations of the nodes when drawing the graph. This makes it easier to compare the graphs with each other, as all nodes will always be in the same position."
   ]
  },
  {
   "cell_type": "code",
   "execution_count": null,
   "metadata": {},
   "outputs": [],
   "source": [
    "## Create graph from adjacency Matrix\n",
    "G = nx.DiGraph(A)\n",
    "\n",
    "## Define a position for each node\n",
    "## (this not needed and only ensure that the graph looks like in the lecture)\n",
    "fixed_positions = { 0:(1,0), 1:(5,0), 2:(10,0), 3:(0.5,-4), 4:(7,-5),\n",
    "                    5:(11,-4), 6:(1,-7), 7:(3,-8), 8:(5,-9), 9:(9,-7),\n",
    "                    10:(11,-6)}\n",
    "\n",
    "fixed_nodes = fixed_positions.keys()\n",
    "\n",
    "pos = nx.spring_layout(G, pos=fixed_positions, fixed=fixed_nodes)"
   ]
  },
  {
   "cell_type": "markdown",
   "metadata": {},
   "source": [
    "### Draw the Graph\n",
    "\n",
    "`networkX` comes with in-built methods to draw graphs."
   ]
  },
  {
   "cell_type": "code",
   "execution_count": null,
   "metadata": {},
   "outputs": [],
   "source": [
    "plt.figure()\n",
    "plt.axis('off')\n",
    "plt.tight_layout()\n",
    "nx.draw_networkx(G, pos, with_labels=True, font_weight='bold', node_color='#80BFFF')\n",
    "plt.show()"
   ]
  },
  {
   "cell_type": "markdown",
   "metadata": {},
   "source": [
    "---"
   ]
  },
  {
   "cell_type": "markdown",
   "metadata": {},
   "source": [
    "## Degree Centrality\n",
    "\n",
    "Degree centrality is the most basic way to measure the importance of a node by simply counting the number of edges the node is connected to. In case of, undirected graphs, this is just the sum all all edges $c_d(v_i)$ for a node $v_i$:\n",
    "\n",
    "$$\n",
    "c_d(v_i) = \\sum_{v_j\\in V} A[i,j]\n",
    "$$\n",
    "\n",
    "Note that for undirected graphs the adjacency matrix A is symmetric. In case of directed graphs, we can distinguish between the InDegree centrality $c_{d\\_in}(v_i)$ and OutDegree centrality c_{d\\_out}(v_i) of a node $v_i$:\n",
    "\n",
    "$$\n",
    "c_{d\\_in}(v_i) = \\sum_{v_j\\in V} A[j,i]\n",
    "$$\n",
    "$$\n",
    "c_{d\\_out}(v_i) = \\sum_{v_j\\in V} A[i,j]\n",
    "$$\n",
    "\n",
    "### Calculating InDegree Scores\n",
    "\n",
    "`networkX` provides methods for all types of degree centrality. In the following example, we calculate the InDegree centrality for each node in our directed graph G. In many application contexts, the InDegree is typically the better score that reflects the importance of a node. For example, in the case of hyperlinks on the Web, a page with many incoming links is more important."
   ]
  },
  {
   "cell_type": "code",
   "execution_count": null,
   "metadata": {},
   "outputs": [],
   "source": [
    "indegree_scores = in_degree_centrality(G)\n",
    "\n",
    "for node, score in indegree_scores.items():\n",
    "    print('InDegree score of node {}: {:.3}'.format(node, score))"
   ]
  },
  {
   "cell_type": "markdown",
   "metadata": {},
   "source": [
    "Maybe a bit surprising, the scores are not simple integer values. This is because the implementation of the method normalizes the scores by dividing by the maximum possible degree in a simple graph $n-1$, where $n$ is the number of nodes in G. Of course, we can easily reverse this normalization if needed:"
   ]
  },
  {
   "cell_type": "code",
   "execution_count": null,
   "metadata": {},
   "outputs": [],
   "source": [
    "n = len(G.nodes) - 1\n",
    "\n",
    "for node, score in indegree_scores.items():\n",
    "    print('InDegree score of node {}: {:.3}'.format(node, score*n))"
   ]
  },
  {
   "cell_type": "markdown",
   "metadata": {},
   "source": [
    "### Drawing the Graph\n",
    "\n",
    "We can draw graph G as above but now set the size of each node to reflect its InDegree score in relation to the other nodes. Note that the `10000` is just a scaling factor."
   ]
  },
  {
   "cell_type": "code",
   "execution_count": null,
   "metadata": {},
   "outputs": [],
   "source": [
    "plt.figure()\n",
    "plt.axis('off')\n",
    "axis = plt.gca()\n",
    "plt.tight_layout()\n",
    "nx.draw_networkx(G, pos, with_labels=True, node_size=[ v*10000 for v in indegree_scores.values()], font_size=16, font_weight='bold', node_color='#80BFFF')\n",
    "plt.show()"
   ]
  },
  {
   "cell_type": "markdown",
   "metadata": {},
   "source": [
    "The scores and the graph are obviously very easy to interpret given the simplicity of InDegree centrality. Nodes with no incoming edges, naturally will have a score of 0, while the node with the most incoming edges has the highest score."
   ]
  },
  {
   "cell_type": "markdown",
   "metadata": {},
   "source": [
    "---"
   ]
  },
  {
   "cell_type": "markdown",
   "metadata": {},
   "source": [
    "## PageRank\n",
    "\n",
    "For InDegree, we made the argument that it can be used to measure the importance of a Web page by counting the number of hyperlinks that point to it. And this is not an unreasonable approach. However, it is also very vulnerable to cheaters/spammers. For example, one can set up many random Web pages with a link to a certain target page to quickly increase its InDegree score.\n",
    "\n",
    "This is where PageRank comes in. PageRank also uses the number of incoming edges but weighs these edges with respect to the score of the source of an edge. That means if a node has a very low PageRank score an edge from it not another target node will hardly affect the PageRank score of the target node.\n",
    "\n",
    "The PageRange centrality score $c_{pr}(v_i)$ of a node $v_i$ is recursively defined as:\n",
    "\n",
    "$$\n",
    "c_{pr}(v_i) = \\alpha M c_{pr}(v_i) + (1-\\alpha)E\n",
    "$$\n",
    "\n",
    "where $M$ is the transition matrix for graph G (see the lecture slides), $E$ is a vector of size $n$ (n being the number of nodes) with each values set to $1/n$, and $\\alpha$ is the so-called damping factor.\n",
    "\n",
    "\n",
    "### Calculating the PageRank Scores of G\n",
    "\n",
    "Of course, `networkX` makes calculating the PageRank centrality scores for all nodes in a graph G eazy."
   ]
  },
  {
   "cell_type": "code",
   "execution_count": null,
   "metadata": {},
   "outputs": [],
   "source": [
    "pagerank_scores = pagerank(G, alpha=0.85)\n",
    "\n",
    "for node, score in pagerank_scores.items():\n",
    "    print('PageRank score of node {}: {:.3}'.format(node, score))"
   ]
  },
  {
   "cell_type": "markdown",
   "metadata": {},
   "source": [
    "### Drawing the Graph\n",
    "\n",
    "We again can draw the graph in such a way that the size of the nodes reflects their PageRank scores."
   ]
  },
  {
   "cell_type": "code",
   "execution_count": null,
   "metadata": {},
   "outputs": [],
   "source": [
    "plt.figure()\n",
    "plt.axis('off')\n",
    "axis = plt.gca()\n",
    "plt.tight_layout()\n",
    "nx.draw_networkx(G, pos, with_labels=True, node_size=[ v*20000 for v in pagerank_scores.values()], font_size=16, font_weight='bold', node_color='#80BFFF')\n",
    "plt.show()"
   ]
  },
  {
   "cell_type": "markdown",
   "metadata": {},
   "source": [
    "When comparing this graph to the one above for InDegree centrality, we can see various differences\n",
    "\n",
    "* Even nodes with no incoming edges now have a centrality score larger than 0\n",
    "\n",
    "* The score of Node 2 is now almost as high as then one for Node, although Node 2 has only one incoming edge. This is due to the fact that this one incoming edge comes from a Node with a very high score.\n",
    "\n",
    "* The score of Node 4 is now much smaller compared to the score of Node 1, because most incoming edges of Node 4 come from nodes with a low score."
   ]
  },
  {
   "cell_type": "markdown",
   "metadata": {},
   "source": [
    "---"
   ]
  },
  {
   "cell_type": "markdown",
   "metadata": {},
   "source": [
    "## Closeness\n",
    "\n",
    "Closeness centrality considers nodes as important if the distance to all other nodes is small, where small distance to node $t$ means that there are short paths from all other nodes to $t$. The basic definition of Closeness is defined for unweighted graphs:\n",
    "\n",
    "$$\n",
    "c_{cl}(v) = \\frac{N}{\\sum_{w \\in V} d(v,w)}\n",
    "$$\n",
    "\n",
    "where $d(v,w)$ is the length of shortest path from $v$ to $w$, and $N$ is the number of nodes reachable from $v$.\n",
    "\n",
    "For directed paths, the Closeness of node t can differ greatly when considering incoming or outcoming edges for calculating distances. In the following, however, we only consider the basic case of undirected graphs\n",
    "\n",
    "\n",
    "### Convert Directed Graph G to Undirected Graph\n",
    "\n",
    "To convert a directed graph into an undirected graph in `networkX` requires only to call `to_undirected()` on directed graph G."
   ]
  },
  {
   "cell_type": "code",
   "execution_count": null,
   "metadata": {},
   "outputs": [],
   "source": [
    "G_undirected = G.to_undirected()"
   ]
  },
  {
   "cell_type": "markdown",
   "metadata": {},
   "source": [
    "### Calculating the PageRank Scores of G\n",
    "\n",
    "As usual, `networkX` got us covered."
   ]
  },
  {
   "cell_type": "code",
   "execution_count": null,
   "metadata": {},
   "outputs": [],
   "source": [
    "closeness_scores = closeness_centrality(G_undirected)\n",
    "\n",
    "for node, score in closeness_scores.items():\n",
    "    print('Closeness score of node {}: {:.3}'.format(node, score))"
   ]
  },
  {
   "cell_type": "markdown",
   "metadata": {},
   "source": [
    "### Drawing the Graph\n",
    "\n",
    "We again can draw the graph in such a way that the size of the nodes reflects their Closeness scores."
   ]
  },
  {
   "cell_type": "code",
   "execution_count": null,
   "metadata": {},
   "outputs": [],
   "source": [
    "plt.figure()\n",
    "plt.axis('off')\n",
    "plt.gca().set_xlim(-0.5, 12)\n",
    "plt.gca().set_ylim(-10, 2)\n",
    "plt.tight_layout()\n",
    "nx.draw_networkx(G_undirected, pos, with_labels=True, node_size=[ v*2500 for v in closeness_scores.values()], font_size=16, font_weight='bold', node_color='#80BFFF')\n",
    "plt.show()"
   ]
  },
  {
   "cell_type": "markdown",
   "metadata": {},
   "source": [
    "Converting our initial graph G to an undirected one makes all the nodes more \"equal\". And since there are not very many nodes that are also rather well connected, the Closeness scores of all nodes are relatively similar. However, some nodes (e.g. Node 1 and 4) are connected to more other nodes and therefore have the highest Closeness centrality scores."
   ]
  },
  {
   "cell_type": "markdown",
   "metadata": {},
   "source": [
    "---"
   ]
  },
  {
   "cell_type": "markdown",
   "metadata": {},
   "source": [
    "## Betweenness Centrality\n",
    "\n",
    "The intuition behind Betweenness centrality is that A node $t$ is important if many shortest paths between all other nodes pass through $t$. In other words, removing such nodes would cause the most \"disruption\" in a graph. Betweenness centrality is directly applicable to directed/undirected and weighted/unweighted graphs:\n",
    "\n",
    "$$\n",
    "c_{b}(v) = \\sum_{} \\frac{\\sigma_{st}(v)}{\\sigma_{st}}\n",
    "$$\n",
    "\n",
    "where $\\sigma_{st}(v)$ is number of shortest paths from $s$ to $t$ passing through node $v$, and $\\sigma_{st}$ is the total number of shortest paths from $s$ to $t$. In the following, we calculate the Betweenness scores for the undirected graph to compare the results with the Closeness scores\n",
    "\n",
    "### Calculating the Betweenness Scores of G\n",
    "\n",
    "As usual, `networkX` got us covered."
   ]
  },
  {
   "cell_type": "code",
   "execution_count": null,
   "metadata": {},
   "outputs": [],
   "source": [
    "betweenness_scores = betweenness_centrality(G_undirected, normalized=True)\n",
    "\n",
    "for node, score in betweenness_scores.items():\n",
    "    print('Betweenness score of node {}: {:.3}'.format(node, score))"
   ]
  },
  {
   "cell_type": "markdown",
   "metadata": {},
   "source": [
    "### Drawing the Graph\n",
    "\n",
    "We again can draw the graph in such a way that the size of the nodes reflects their Betweenness scores."
   ]
  },
  {
   "cell_type": "code",
   "execution_count": null,
   "metadata": {},
   "outputs": [],
   "source": [
    "plt.figure()\n",
    "plt.axis('off')\n",
    "plt.gca().set_xlim(-0.5, 12)\n",
    "plt.gca().set_ylim(-10, 2)\n",
    "plt.tight_layout()\n",
    "nx.draw_networkx(G_undirected, pos, with_labels=True, node_size=[ v*2500 for v in betweenness_scores.values()], font_size=16, font_weight='bold', node_color='#80BFFF')\n",
    "plt.show()"
   ]
  },
  {
   "cell_type": "markdown",
   "metadata": {},
   "source": [
    "Unsurprisingly, nodes with only one edge have a Betweenness score of 0 (Nodes 0, 2, 9, 10) as they cannot be along any path, shortest or not. But also Nodes 5, 6, 7 and 8 have a Betweenness score of 0 as they are not on any shortest path between all pairs of nodes. All shortest paths go to Nodes 1, 3 or 4, which are therefore the only nodes with a Betweenness score larger than 0."
   ]
  },
  {
   "cell_type": "markdown",
   "metadata": {},
   "source": [
    "---"
   ]
  },
  {
   "cell_type": "markdown",
   "metadata": {},
   "source": [
    "## Summary\n",
    "\n",
    "Centrality measures play a crucial role in graph mining by quantifying the importance and influence of nodes within a network. These measures provide valuable insights into the structure and dynamics of the graph, allowing us to identify key entities, influencers, and critical points. However, each centrality measure has its own strengths and limitations.\n",
    "\n",
    "Degree centrality is a simple and straightforward measure that counts the number of direct connections a node has. It is easy to compute and interpret, making it widely used. However, it fails to capture the importance of indirect connections and does not consider the centrality of neighboring nodes.\n",
    "\n",
    "Betweenness centrality, on the other hand, identifies nodes that act as bridges or intermediaries between different parts of the network. It captures the node's role in information flow or communication. However, computing betweenness centrality for large graphs can be computationally expensive, and it may not be suitable for networks where multiple paths exist between nodes.\n",
    "\n",
    "Closeness centrality measures how close a node is to all other nodes in terms of the shortest path length. It identifies nodes with efficient access to information or resources. Closeness centrality is straightforward to compute and provides a more nuanced view than degree centrality. However, it may not be suitable for disconnected graphs or graphs with unreachable nodes.\n",
    "\n",
    "Eigenvector centrality considers both a node's direct connections and the centrality of its neighbors. It captures the influence and importance of nodes that are connected to other highly central nodes. However, calculating eigenvector centrality requires iterative methods and can be computationally intensive.\n",
    "\n",
    "PageRank centrality, originally designed for ranking web pages, assigns centrality based on a node's connections to other important nodes. It provides a global view of the graph structure but may be influenced by link spamming or manipulation.\n",
    "\n",
    "In summary, centrality measures offer valuable insights into graph mining, but it is important to choose the appropriate measure based on the specific characteristics of the graph and the analysis goals. Different centrality measures provide different perspectives on node importance, and understanding their pros and cons helps in making informed decisions when analyzing complex networks."
   ]
  },
  {
   "cell_type": "code",
   "execution_count": null,
   "metadata": {},
   "outputs": [],
   "source": []
  }
 ],
 "metadata": {
  "kernelspec": {
   "display_name": "cs5246",
   "language": "python",
   "name": "cs5246"
  },
  "language_info": {
   "codemirror_mode": {
    "name": "ipython",
    "version": 3
   },
   "file_extension": ".py",
   "mimetype": "text/x-python",
   "name": "python",
   "nbconvert_exporter": "python",
   "pygments_lexer": "ipython3",
   "version": "3.9.15"
  }
 },
 "nbformat": 4,
 "nbformat_minor": 4
}
